{
 "cells": [
  {
   "cell_type": "code",
   "execution_count": 1,
   "metadata": {
    "collapsed": true
   },
   "outputs": [],
   "source": [
    "from sklearn.model_selection import train_test_split\n",
    "import pandas as pd\n",
    "\n",
    "from svm import SVMClassifier\n",
    "import utils"
   ]
  },
  {
   "cell_type": "code",
   "execution_count": 4,
   "metadata": {},
   "outputs": [],
   "source": [
    "train_files = [\n",
    "    'data/Xtr0.csv',\n",
    "    'data/Xtr1.csv',\n",
    "    'data/Xtr2.csv'\n",
    "]\n",
    "train_labels_files = [\n",
    "    'data/Ytr0.csv',\n",
    "    'data/Ytr1.csv',\n",
    "    'data/Ytr2.csv'\n",
    "]"
   ]
  },
  {
   "cell_type": "code",
   "execution_count": 5,
   "metadata": {
    "collapsed": true
   },
   "outputs": [],
   "source": [
    "train_data = pd.DataFrame()\n",
    "train_labels = pd.DataFrame()\n",
    "\n",
    "for data_file in train_files:\n",
    "    train_data = train_data.append(pd.read_csv(data_file, header=None, names=['seq']), ignore_index=True)\n",
    "for data_file in train_labels_files:\n",
    "    train_labels = train_labels.append(pd.read_csv(data_file), ignore_index=True)\n",
    "train_labels = train_labels.drop(train_labels.columns[[0]], axis=1)"
   ]
  },
  {
   "cell_type": "code",
   "execution_count": 10,
   "metadata": {},
   "outputs": [],
   "source": [
    "X, _ = utils.kgram_sparse_matrix(train_data, kgram_level=14, kgram_min=5)\n",
    "y = train_labels.Bound\n",
    "y[y==0] = -1"
   ]
  },
  {
   "cell_type": "code",
   "execution_count": 12,
   "metadata": {},
   "outputs": [],
   "source": [
    "X_train, X_test, y_train, y_test = train_test_split(X, y, test_size=0.1, random_state=42)"
   ]
  },
  {
   "cell_type": "code",
   "execution_count": 13,
   "metadata": {},
   "outputs": [],
   "source": [
    "model = SVMClassifier(reg_alpha=0.205)\n",
    "model.fit(X_train, y_train)\n",
    "score = model.score(X_test, y_test)\n",
    "print('Final score: ' + str(score))"
   ]
  }
 ],
 "metadata": {
  "kernelspec": {
   "display_name": "Python 2",
   "language": "python",
   "name": "python2"
  },
  "language_info": {
   "codemirror_mode": {
    "name": "ipython",
    "version": 2
   },
   "file_extension": ".py",
   "mimetype": "text/x-python",
   "name": "python",
   "nbconvert_exporter": "python",
   "pygments_lexer": "ipython2",
   "version": "2.7.6"
  }
 },
 "nbformat": 4,
 "nbformat_minor": 0
}
